{
 "cells": [
  {
   "cell_type": "code",
   "execution_count": null,
   "metadata": {},
   "outputs": [],
   "source": [
    "import tensorflow_hub as hub\n",
    "import tensorflow as tf\n",
    "elmo = hub.Module(\"https://tfhub.dev/google/elmo/2\", trainable=True)\n",
    "def elmo_vectors(x):\n",
    "    embeddings = elmo(x, signature=\"default\", as_dict=True)[\"elmo\"]\n",
    "    with tf.Session() as sess:\n",
    "        sess.run(tf.global_variables_initializer())\n",
    "        sess.run(tf.tables_initializer())\n",
    "        # return average of ELMo features\n",
    "        return sess.run(embeddings)\n",
    "count = 0\n",
    "train_x = []\n",
    "for x in train_x_raw:\n",
    "    print('\\n')\n",
    "    count += 1\n",
    "    print(count)\n",
    "    print(len(x.split()))\n",
    "    elmo_x = elmo_vectors(x.split())\n",
    "    print(elmo_x.shape)\n",
    "    train_x.append(elmo_x)\n",
    "    \n",
    "count = 0\n",
    "test_x = []\n",
    "for x in test_x_raw:\n",
    "    count += 1\n",
    "    print(count)\n",
    "    test_x.append(elmo_vectors(x.split()))\n",
    "with open('train_x.pickle','wb') as tfile:\n",
    "    pickle.dump(train_x,tfile)\n",
    "with open('test.pickle','wb') as tfile:\n",
    "    pickle.dump(test_x,tfile)    "
   ]
  }
 ],
 "metadata": {
  "kernelspec": {
   "display_name": "Python 3",
   "language": "python",
   "name": "python3"
  },
  "language_info": {
   "codemirror_mode": {
    "name": "ipython",
    "version": 3
   },
   "file_extension": ".py",
   "mimetype": "text/x-python",
   "name": "python",
   "nbconvert_exporter": "python",
   "pygments_lexer": "ipython3",
   "version": "3.7.5"
  }
 },
 "nbformat": 4,
 "nbformat_minor": 2
}
